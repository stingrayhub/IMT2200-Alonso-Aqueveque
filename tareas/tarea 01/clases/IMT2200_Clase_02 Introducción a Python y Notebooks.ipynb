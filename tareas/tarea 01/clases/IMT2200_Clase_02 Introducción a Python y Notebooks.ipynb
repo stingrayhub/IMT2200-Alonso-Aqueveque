{
 "cells": [
  {
   "cell_type": "markdown",
   "id": "413dcded",
   "metadata": {},
   "source": [
    "# <img style=\"float: left; padding-right: 20px; width: 200px\" src=\"https://raw.githubusercontent.com/raxlab/imt2200-data/main/media/logo.jpg\">  IMT 2200 - Introducción a Ciencia de Datos\n",
    "**Pontificia Universidad Católica de Chile**<br>\n",
    "**Instituto de Ingeniería Matemática y Computacional**<br>\n",
    "**Semestre 2025-S2**<br>\n",
    "**Profesor:** Rodrigo A. Carrasco <br>\n",
    "---"
   ]
  },
  {
   "attachments": {
    "29441847-s.jpg": {
     "image/jpeg": "[encoded data removed]"
    }
   },
   "cell_type": "markdown",
   "id": "513d53dc",
   "metadata": {},
   "source": [
    "# <h1><center>Clase 02: Repaso de Python y Jupyter Notebooks</center></h1>\n",
    "\n",
    "Referencia: Capítulo 2 de \"Python for Data Analysis\", 3rd Ed., Wes McKinney y basado en el notebook introductorio de Eduardo Moreno\n",
    "![29441847-s.jpg](attachment:29441847-s.jpg)"
   ]
  },
  {
   "cell_type": "markdown",
   "id": "a9665956",
   "metadata": {},
   "source": [
    "**Python**: Lenguaje de programación (ejecuta comandos, generalmente de un archivo)\n",
    "\n",
    "**Jupyter Notebooks**: Interface Web para desplegar texto (Markdown) y comandos IPython (y otro lenguajes)"
   ]
  },
  {
   "cell_type": "markdown",
   "id": "a3200e17",
   "metadata": {},
   "source": [
    "### Expresiones y variables"
   ]
  },
  {
   "cell_type": "code",
   "execution_count": 1,
   "id": "b90ac042",
   "metadata": {},
   "outputs": [
    {
     "data": {
      "text/plain": [
       "3"
      ]
     },
     "execution_count": 1,
     "metadata": {},
     "output_type": "execute_result"
    }
   ],
   "source": [
    "1+2"
   ]
  },
  {
   "cell_type": "code",
   "execution_count": 2,
   "id": "af517147",
   "metadata": {},
   "outputs": [
    {
     "data": {
      "text/plain": [
       "8"
      ]
     },
     "execution_count": 2,
     "metadata": {},
     "output_type": "execute_result"
    }
   ],
   "source": [
    "a = 5\n",
    "b = 3 \n",
    "a+b"
   ]
  },
  {
   "cell_type": "code",
   "execution_count": 3,
   "id": "ca426414",
   "metadata": {},
   "outputs": [
    {
     "data": {
      "text/plain": [
       "8"
      ]
     },
     "execution_count": 3,
     "metadata": {},
     "output_type": "execute_result"
    }
   ],
   "source": [
    "a+b"
   ]
  },
  {
   "cell_type": "markdown",
   "id": "f6c95c9f",
   "metadata": {},
   "source": [
    "### Información de funciones"
   ]
  },
  {
   "cell_type": "code",
   "execution_count": 4,
   "id": "f4b8f8f6",
   "metadata": {},
   "outputs": [
    {
     "data": {
      "text/plain": [
       "\u001b[1;31mSignature:\u001b[0m \u001b[0mprint\u001b[0m\u001b[1;33m(\u001b[0m\u001b[1;33m*\u001b[0m\u001b[0margs\u001b[0m\u001b[1;33m,\u001b[0m \u001b[0msep\u001b[0m\u001b[1;33m=\u001b[0m\u001b[1;34m' '\u001b[0m\u001b[1;33m,\u001b[0m \u001b[0mend\u001b[0m\u001b[1;33m=\u001b[0m\u001b[1;34m'\\n'\u001b[0m\u001b[1;33m,\u001b[0m \u001b[0mfile\u001b[0m\u001b[1;33m=\u001b[0m\u001b[1;32mNone\u001b[0m\u001b[1;33m,\u001b[0m \u001b[0mflush\u001b[0m\u001b[1;33m=\u001b[0m\u001b[1;32mFalse\u001b[0m\u001b[1;33m)\u001b[0m\u001b[1;33m\u001b[0m\u001b[1;33m\u001b[0m\u001b[0m\n",
       "\u001b[1;31mDocstring:\u001b[0m\n",
       "Prints the values to a stream, or to sys.stdout by default.\n",
       "\n",
       "sep\n",
       "  string inserted between values, default a space.\n",
       "end\n",
       "  string appended after the last value, default a newline.\n",
       "file\n",
       "  a file-like object (stream); defaults to the current sys.stdout.\n",
       "flush\n",
       "  whether to forcibly flush the stream.\n",
       "\u001b[1;31mType:\u001b[0m      builtin_function_or_method"
      ]
     },
     "metadata": {},
     "output_type": "display_data"
    }
   ],
   "source": [
    "print?"
   ]
  },
  {
   "cell_type": "markdown",
   "id": "23e08d9c",
   "metadata": {},
   "source": [
    "### Uso de librerías"
   ]
  },
  {
   "cell_type": "code",
   "execution_count": 5,
   "id": "24b396b7",
   "metadata": {},
   "outputs": [
    {
     "data": {
      "text/plain": [
       "[<matplotlib.lines.Line2D at 0x1c318b4f530>]"
      ]
     },
     "execution_count": 5,
     "metadata": {},
     "output_type": "execute_result"
    },
    {
     "data": {
      "image/png": "[encoded data removed]",
      "text/plain": [
       "<Figure size 640x480 with 1 Axes>"
      ]
     },
     "metadata": {},
     "output_type": "display_data"
    }
   ],
   "source": [
    "import matplotlib.pyplot as plt\n",
    "plt.plot([1,10,5,4])"
   ]
  },
  {
   "cell_type": "markdown",
   "id": "f502071f",
   "metadata": {},
   "source": [
    "## Conceptos Básicos\n",
    "### Sintaxis\n",
    "A diferencia de otros lenguajes el _scope_ se define usando indentación y no llaves"
   ]
  },
  {
   "cell_type": "code",
   "execution_count": 6,
   "id": "6c5e5f94",
   "metadata": {},
   "outputs": [
    {
     "name": "stdout",
     "output_type": "stream",
     "text": [
      "Hola\n",
      "4\n",
      "9\n",
      "chao\n"
     ]
    }
   ],
   "source": [
    "for x in [1,2,3]:\n",
    "    if x < 2:\n",
    "        print(\"Hola\")\n",
    "    else:\n",
    "        print(x**2)\n",
    "print(\"chao\")"
   ]
  },
  {
   "cell_type": "markdown",
   "id": "d0d56d0e",
   "metadata": {},
   "source": [
    "se usa el signo ```#``` para hacer comentarios"
   ]
  },
  {
   "cell_type": "code",
   "execution_count": 7,
   "id": "640aa4d8",
   "metadata": {},
   "outputs": [
    {
     "name": "stdout",
     "output_type": "stream",
     "text": [
      "Hola\n",
      "4\n",
      "9\n"
     ]
    }
   ],
   "source": [
    "for x in [1,2,3]:\n",
    "    # si es menor que 2 dice hola\n",
    "    if x < 2:\n",
    "        print(\"Hola\")\n",
    "    # si no lo eleva al cuadrado\n",
    "    else:\n",
    "        print(x**2)"
   ]
  },
  {
   "cell_type": "code",
   "execution_count": 8,
   "id": "4efc2a41",
   "metadata": {},
   "outputs": [
    {
     "name": "stdout",
     "output_type": "stream",
     "text": [
      "Hola\n"
     ]
    }
   ],
   "source": [
    "print(\"Hola\")  # comentario al final"
   ]
  },
  {
   "cell_type": "markdown",
   "id": "c95a76d0",
   "metadata": {},
   "source": [
    "### Variables"
   ]
  },
  {
   "cell_type": "code",
   "execution_count": 9,
   "id": "022c9b63",
   "metadata": {},
   "outputs": [],
   "source": [
    "a = 521"
   ]
  },
  {
   "cell_type": "code",
   "execution_count": 10,
   "id": "51c11632",
   "metadata": {},
   "outputs": [],
   "source": [
    "a = a + 1"
   ]
  },
  {
   "cell_type": "code",
   "execution_count": 11,
   "id": "828f97e8",
   "metadata": {},
   "outputs": [
    {
     "data": {
      "text/plain": [
       "523"
      ]
     },
     "execution_count": 11,
     "metadata": {},
     "output_type": "execute_result"
    }
   ],
   "source": [
    "a+= 1\n",
    "a"
   ]
  },
  {
   "cell_type": "markdown",
   "id": "8a79dbba",
   "metadata": {},
   "source": [
    "Todo es un _objeto_ en Python, por lo que tienen atributos y métodos asociados."
   ]
  },
  {
   "cell_type": "code",
   "execution_count": 12,
   "id": "0c6b31f9",
   "metadata": {},
   "outputs": [
    {
     "data": {
      "text/plain": [
       "'perro'"
      ]
     },
     "execution_count": 12,
     "metadata": {},
     "output_type": "execute_result"
    }
   ],
   "source": [
    "a = \"perro\"\n",
    "a"
   ]
  },
  {
   "cell_type": "code",
   "execution_count": 13,
   "id": "4c76a253",
   "metadata": {},
   "outputs": [
    {
     "data": {
      "text/plain": [
       "'PERRO'"
      ]
     },
     "execution_count": 13,
     "metadata": {},
     "output_type": "execute_result"
    }
   ],
   "source": [
    "a.upper()"
   ]
  },
  {
   "cell_type": "code",
   "execution_count": 14,
   "id": "5bbbe2ff",
   "metadata": {},
   "outputs": [
    {
     "data": {
      "text/plain": [
       "2"
      ]
     },
     "execution_count": 14,
     "metadata": {},
     "output_type": "execute_result"
    }
   ],
   "source": [
    "a.count(\"r\")"
   ]
  },
  {
   "cell_type": "code",
   "execution_count": 15,
   "id": "ddbccdd3",
   "metadata": {},
   "outputs": [
    {
     "data": {
      "text/plain": [
       "'Perro'"
      ]
     },
     "execution_count": 15,
     "metadata": {},
     "output_type": "execute_result"
    }
   ],
   "source": [
    "a.capitalize()"
   ]
  },
  {
   "cell_type": "markdown",
   "id": "affac5e0",
   "metadata": {},
   "source": [
    "Es importantísimo recordar que con igualdad se crea una **referencia** entre objetos y no una copia."
   ]
  },
  {
   "cell_type": "code",
   "execution_count": 16,
   "id": "3d30baf6",
   "metadata": {},
   "outputs": [
    {
     "data": {
      "text/plain": [
       "[1, 2, 3]"
      ]
     },
     "execution_count": 16,
     "metadata": {},
     "output_type": "execute_result"
    }
   ],
   "source": [
    "a = [1, 2, 3]\n",
    "b = a \n",
    "b"
   ]
  },
  {
   "cell_type": "code",
   "execution_count": 17,
   "id": "3ab895ee",
   "metadata": {},
   "outputs": [
    {
     "data": {
      "text/plain": [
       "[1, 2, 3, 4]"
      ]
     },
     "execution_count": 17,
     "metadata": {},
     "output_type": "execute_result"
    }
   ],
   "source": [
    "a.append(4)\n",
    "a"
   ]
  },
  {
   "cell_type": "code",
   "execution_count": 18,
   "id": "a7ab93b6",
   "metadata": {},
   "outputs": [
    {
     "data": {
      "text/plain": [
       "[1, 2, 3, 4]"
      ]
     },
     "execution_count": 18,
     "metadata": {},
     "output_type": "execute_result"
    }
   ],
   "source": [
    "b"
   ]
  },
  {
   "cell_type": "code",
   "execution_count": 19,
   "id": "a576788f",
   "metadata": {},
   "outputs": [
    {
     "data": {
      "text/plain": [
       "[1, 2, 3, 4, 'H']"
      ]
     },
     "execution_count": 19,
     "metadata": {},
     "output_type": "execute_result"
    }
   ],
   "source": [
    "b.append('H')\n",
    "b"
   ]
  },
  {
   "cell_type": "code",
   "execution_count": 20,
   "id": "06fcf8f3",
   "metadata": {},
   "outputs": [
    {
     "data": {
      "text/plain": [
       "[1, 2, 3, 4, 'H']"
      ]
     },
     "execution_count": 20,
     "metadata": {},
     "output_type": "execute_result"
    }
   ],
   "source": [
    "a"
   ]
  },
  {
   "cell_type": "code",
   "execution_count": 21,
   "id": "39adca77",
   "metadata": {},
   "outputs": [
    {
     "data": {
      "text/plain": [
       "[1, 2, 3, 4, 'H']"
      ]
     },
     "execution_count": 21,
     "metadata": {},
     "output_type": "execute_result"
    }
   ],
   "source": [
    "b"
   ]
  },
  {
   "cell_type": "markdown",
   "id": "b71932a0",
   "metadata": {},
   "source": [
    "Algunos objetos tienen un _metodo_ que permite hacer copias del contenido."
   ]
  },
  {
   "cell_type": "code",
   "execution_count": 22,
   "id": "ac461d97",
   "metadata": {},
   "outputs": [
    {
     "data": {
      "text/plain": [
       "[1, 2, 3, 4]"
      ]
     },
     "execution_count": 22,
     "metadata": {},
     "output_type": "execute_result"
    }
   ],
   "source": [
    "a = [1, 2, 3]\n",
    "b=a.copy()\n",
    "a.append(4)\n",
    "a"
   ]
  },
  {
   "cell_type": "code",
   "execution_count": 23,
   "id": "11330186",
   "metadata": {},
   "outputs": [
    {
     "data": {
      "text/plain": [
       "[1, 2, 3]"
      ]
     },
     "execution_count": 23,
     "metadata": {},
     "output_type": "execute_result"
    }
   ],
   "source": [
    "b"
   ]
  },
  {
   "cell_type": "markdown",
   "id": "81fdfac1",
   "metadata": {},
   "source": [
    "#### Tipos y referencias fuertes\n",
    "Python no tiene \"tipos\" fuertes asociado a una variable. Una variable puede cambiar de un tipo a otro, a veces sin siquiera darnos cuenta."
   ]
  },
  {
   "cell_type": "code",
   "execution_count": 24,
   "id": "0d049397",
   "metadata": {},
   "outputs": [
    {
     "data": {
      "text/plain": [
       "int"
      ]
     },
     "execution_count": 24,
     "metadata": {},
     "output_type": "execute_result"
    }
   ],
   "source": [
    "a = 5\n",
    "type(a)"
   ]
  },
  {
   "cell_type": "code",
   "execution_count": 25,
   "id": "bbf63b43",
   "metadata": {},
   "outputs": [
    {
     "data": {
      "text/plain": [
       "str"
      ]
     },
     "execution_count": 25,
     "metadata": {},
     "output_type": "execute_result"
    }
   ],
   "source": [
    "b = 'foo'\n",
    "type(b)"
   ]
  },
  {
   "cell_type": "code",
   "execution_count": 26,
   "id": "27ef31c4",
   "metadata": {},
   "outputs": [
    {
     "ename": "TypeError",
     "evalue": "can only concatenate str (not \"int\") to str",
     "output_type": "error",
     "traceback": [
      "\u001b[1;31m---------------------------------------------------------------------------\u001b[0m",
      "\u001b[1;31mTypeError\u001b[0m                                 Traceback (most recent call last)",
      "Cell \u001b[1;32mIn[26], line 1\u001b[0m\n\u001b[1;32m----> 1\u001b[0m \u001b[38;5;124m'\u001b[39m\u001b[38;5;124m5\u001b[39m\u001b[38;5;124m'\u001b[39m \u001b[38;5;241m+\u001b[39m \u001b[38;5;241m5\u001b[39m\n",
      "\u001b[1;31mTypeError\u001b[0m: can only concatenate str (not \"int\") to str"
     ]
    }
   ],
   "source": [
    "'5' + 5"
   ]
  },
  {
   "cell_type": "code",
   "execution_count": 27,
   "id": "06f0cf7f",
   "metadata": {},
   "outputs": [
    {
     "data": {
      "text/plain": [
       "10"
      ]
     },
     "execution_count": 27,
     "metadata": {},
     "output_type": "execute_result"
    }
   ],
   "source": [
    "a+a"
   ]
  },
  {
   "cell_type": "code",
   "execution_count": 28,
   "id": "e6ebc8b9",
   "metadata": {},
   "outputs": [
    {
     "data": {
      "text/plain": [
       "'55'"
      ]
     },
     "execution_count": 28,
     "metadata": {},
     "output_type": "execute_result"
    }
   ],
   "source": [
    "'5'+'5'"
   ]
  },
  {
   "cell_type": "code",
   "execution_count": 29,
   "id": "2509a80a",
   "metadata": {},
   "outputs": [
    {
     "data": {
      "text/plain": [
       "'holachao'"
      ]
     },
     "execution_count": 29,
     "metadata": {},
     "output_type": "execute_result"
    }
   ],
   "source": [
    "\"hola\" + \"chao\""
   ]
  },
  {
   "cell_type": "code",
   "execution_count": 30,
   "id": "d0710757",
   "metadata": {},
   "outputs": [
    {
     "data": {
      "text/plain": [
       "'foo'"
      ]
     },
     "execution_count": 30,
     "metadata": {},
     "output_type": "execute_result"
    }
   ],
   "source": [
    "b"
   ]
  },
  {
   "cell_type": "code",
   "execution_count": 31,
   "id": "46dd0802",
   "metadata": {},
   "outputs": [
    {
     "data": {
      "text/plain": [
       "'foofoofoofoofoofoofoofoofoofoo'"
      ]
     },
     "execution_count": 31,
     "metadata": {},
     "output_type": "execute_result"
    }
   ],
   "source": [
    "b*10"
   ]
  },
  {
   "cell_type": "markdown",
   "id": "842c899d",
   "metadata": {},
   "source": [
    "Algunas conversiones las hace internamente Python:"
   ]
  },
  {
   "cell_type": "code",
   "execution_count": 32,
   "id": "2047c7d3",
   "metadata": {},
   "outputs": [
    {
     "data": {
      "text/plain": [
       "float"
      ]
     },
     "execution_count": 32,
     "metadata": {},
     "output_type": "execute_result"
    }
   ],
   "source": [
    "a = 4.5\n",
    "type(a)\n",
    "b = 2\n",
    "type(b)\n",
    "a/b\n",
    "type(a/b)"
   ]
  },
  {
   "cell_type": "code",
   "execution_count": 33,
   "id": "b316ef45",
   "metadata": {},
   "outputs": [
    {
     "data": {
      "text/plain": [
       "[1, 2, 3, 1, 2, 3, 1, 2, 3, 1, 2, 3, 1, 2, 3]"
      ]
     },
     "execution_count": 33,
     "metadata": {},
     "output_type": "execute_result"
    }
   ],
   "source": [
    "v = [1,2,3]\n",
    "v*5"
   ]
  },
  {
   "cell_type": "markdown",
   "id": "c7508a64",
   "metadata": {},
   "source": [
    "#### Atributos y métodos\n",
    "```python\n",
    "In [1]: a = 'foo'\n",
    "\n",
    "In [2]: a.<Tab>\n",
    "a.capitalize  a.format      a.isupper     a.rindex      a.strip\n",
    "a.center      a.index       a.join        a.rjust       a.swapcase\n",
    "a.count       a.isalnum     a.ljust       a.rpartition  a.title\n",
    "a.decode      a.isalpha     a.lower       a.rsplit      a.translate\n",
    "a.encode      a.isdigit     a.lstrip      a.rstrip      a.upper\n",
    "a.endswith    a.islower     a.partition   a.split       a.zfill\n",
    "a.expandtabs  a.isspace     a.replace     a.splitlines\n",
    "a.find        a.istitle     a.rfind       a.startswith\n",
    "```"
   ]
  },
  {
   "cell_type": "code",
   "execution_count": 34,
   "id": "c5366fd7",
   "metadata": {},
   "outputs": [],
   "source": [
    "a = '36'"
   ]
  },
  {
   "cell_type": "code",
   "execution_count": 35,
   "id": "9011bf27",
   "metadata": {},
   "outputs": [
    {
     "ename": "SyntaxError",
     "evalue": "invalid syntax (3905452595.py, line 1)",
     "output_type": "error",
     "traceback": [
      "\u001b[1;36m  Cell \u001b[1;32mIn[35], line 1\u001b[1;36m\u001b[0m\n\u001b[1;33m    a.\u001b[0m\n\u001b[1;37m      ^\u001b[0m\n\u001b[1;31mSyntaxError\u001b[0m\u001b[1;31m:\u001b[0m invalid syntax\n"
     ]
    }
   ],
   "source": [
    "a."
   ]
  },
  {
   "cell_type": "code",
   "execution_count": 36,
   "id": "6a9a9cc4",
   "metadata": {},
   "outputs": [
    {
     "data": {
      "text/plain": [
       "'H6'"
      ]
     },
     "execution_count": 36,
     "metadata": {},
     "output_type": "execute_result"
    }
   ],
   "source": [
    "a.replace('3','H')"
   ]
  },
  {
   "cell_type": "markdown",
   "id": "d693de06",
   "metadata": {},
   "source": [
    "#### Operaciones binarias:\n",
    "\n",
    "Operacion | Descripción\n",
    "----------|------------\n",
    "a + b | Suma\n",
    "a - b | Resta\n",
    "a * b | Multiplicacion\n",
    "a / b | División\n",
    "a // b | División entera\n",
    "a % b | Módulo o resto de la división entera\n",
    "a ** b | Potencia\n",
    "a & b | Y lógico\n",
    "a \\| b | O lógico\n",
    "a ^ b | O-exclusivo lógico\n",
    "a == b | True si son iguales\n",
    "a != b | True si no son iguales\n",
    "a <= b | True si a es menor o igual que b (también con  <=, <, >)\n",
    "a is b | Trues si a y b son una referencia al mismo objeto\n",
    "a is not b | Trues si a y b no son una referencia al mismo objeto\n",
    "\n"
   ]
  },
  {
   "cell_type": "code",
   "execution_count": 37,
   "id": "e7d68a24",
   "metadata": {
    "scrolled": true
   },
   "outputs": [
    {
     "data": {
      "text/plain": [
       "False"
      ]
     },
     "execution_count": 37,
     "metadata": {},
     "output_type": "execute_result"
    }
   ],
   "source": [
    "False ^ False"
   ]
  },
  {
   "cell_type": "code",
   "execution_count": 38,
   "id": "5af35c26",
   "metadata": {},
   "outputs": [
    {
     "data": {
      "text/plain": [
       "bool"
      ]
     },
     "execution_count": 38,
     "metadata": {},
     "output_type": "execute_result"
    }
   ],
   "source": [
    "a = True\n",
    "type(a)"
   ]
  },
  {
   "cell_type": "code",
   "execution_count": 39,
   "id": "9ed40a7b",
   "metadata": {},
   "outputs": [
    {
     "data": {
      "text/plain": [
       "False"
      ]
     },
     "execution_count": 39,
     "metadata": {},
     "output_type": "execute_result"
    }
   ],
   "source": [
    "5 - 7\n",
    "12 + 21.5\n",
    "5 <= 2 & 7>3"
   ]
  },
  {
   "cell_type": "code",
   "execution_count": 40,
   "id": "be742ed9",
   "metadata": {},
   "outputs": [
    {
     "ename": "TypeError",
     "evalue": "argument of type 'bool' is not iterable",
     "output_type": "error",
     "traceback": [
      "\u001b[1;31m---------------------------------------------------------------------------\u001b[0m",
      "\u001b[1;31mTypeError\u001b[0m                                 Traceback (most recent call last)",
      "Cell \u001b[1;32mIn[40], line 1\u001b[0m\n\u001b[1;32m----> 1\u001b[0m \u001b[38;5;241m2\u001b[39m \u001b[38;5;129;01min\u001b[39;00m a\n",
      "\u001b[1;31mTypeError\u001b[0m: argument of type 'bool' is not iterable"
     ]
    }
   ],
   "source": [
    "2 in a"
   ]
  },
  {
   "cell_type": "code",
   "execution_count": 41,
   "id": "71aa3215",
   "metadata": {},
   "outputs": [
    {
     "data": {
      "text/plain": [
       "[1, 2, 3]"
      ]
     },
     "execution_count": 41,
     "metadata": {},
     "output_type": "execute_result"
    }
   ],
   "source": [
    "a = [1, 2, 3]\n",
    "b = a\n",
    "c = a.copy()\n",
    "c"
   ]
  },
  {
   "cell_type": "code",
   "execution_count": 42,
   "id": "99563d5a",
   "metadata": {},
   "outputs": [
    {
     "data": {
      "text/plain": [
       "False"
      ]
     },
     "execution_count": 42,
     "metadata": {},
     "output_type": "execute_result"
    }
   ],
   "source": [
    "a is c\n"
   ]
  },
  {
   "cell_type": "code",
   "execution_count": 43,
   "id": "f2359de0",
   "metadata": {},
   "outputs": [
    {
     "data": {
      "text/plain": [
       "True"
      ]
     },
     "execution_count": 43,
     "metadata": {},
     "output_type": "execute_result"
    }
   ],
   "source": [
    "a == c"
   ]
  },
  {
   "cell_type": "code",
   "execution_count": 44,
   "id": "49079584",
   "metadata": {},
   "outputs": [
    {
     "data": {
      "text/plain": [
       "False"
      ]
     },
     "execution_count": 44,
     "metadata": {},
     "output_type": "execute_result"
    }
   ],
   "source": [
    "a = 2\n",
    "a is None"
   ]
  },
  {
   "cell_type": "markdown",
   "id": "5dc09b8a",
   "metadata": {},
   "source": [
    "###  Tipos (Types) básicos de Python\n",
    "Los tipos mas relevantes son:\n",
    "- `None` : nulo, para identificar algo que no existe \n",
    "- `str` : String, texto\n",
    "- `bytes`: datos en formato ASCII\n",
    "- `bool`: booleano, puede ser verdadero (True) o falso (False)\n",
    "- `int` : número entero\n",
    "- `float` : número \"real\" (mas bien, doble-precision 64 bits)"
   ]
  },
  {
   "cell_type": "markdown",
   "id": "d68e5720",
   "metadata": {},
   "source": [
    "#### Números"
   ]
  },
  {
   "cell_type": "code",
   "execution_count": null,
   "id": "ea7a41ed",
   "metadata": {},
   "outputs": [],
   "source": [
    "ival = 17239871\n",
    "ival ** 6"
   ]
  },
  {
   "cell_type": "code",
   "execution_count": null,
   "id": "a963939f",
   "metadata": {},
   "outputs": [],
   "source": [
    "fval = 7.243\n",
    "fval2 = 6.78e-5\n",
    "fval2"
   ]
  },
  {
   "cell_type": "code",
   "execution_count": null,
   "id": "ff58072e",
   "metadata": {},
   "outputs": [],
   "source": [
    "3 / 2"
   ]
  },
  {
   "cell_type": "code",
   "execution_count": null,
   "id": "37231dbe",
   "metadata": {},
   "outputs": [],
   "source": [
    "7 // 3"
   ]
  },
  {
   "cell_type": "code",
   "execution_count": null,
   "id": "26de8967",
   "metadata": {},
   "outputs": [],
   "source": [
    "7 % 3"
   ]
  },
  {
   "cell_type": "markdown",
   "id": "40a46b6d",
   "metadata": {},
   "source": [
    "#### Strings (Texto)\n",
    "Puede usarse comillas (\") o apostrofe (').  Si son múltiples lineas, usar triple comillas o triple apostrofe"
   ]
  },
  {
   "cell_type": "code",
   "execution_count": null,
   "id": "db6b47cb",
   "metadata": {},
   "outputs": [],
   "source": [
    "a = 'one way of writing a string'\n",
    "b = \"another way\"\n",
    "b"
   ]
  },
  {
   "cell_type": "code",
   "execution_count": null,
   "id": "06bac2c7",
   "metadata": {},
   "outputs": [],
   "source": [
    "c = \"\"\"\n",
    "This is a longer string that\n",
    "spans multiple lines\n",
    "\"\"\""
   ]
  },
  {
   "cell_type": "code",
   "execution_count": null,
   "id": "e84e70b5",
   "metadata": {},
   "outputs": [],
   "source": [
    "c"
   ]
  },
  {
   "cell_type": "code",
   "execution_count": null,
   "id": "4caf4107",
   "metadata": {},
   "outputs": [],
   "source": [
    "print(c)"
   ]
  },
  {
   "cell_type": "markdown",
   "id": "6dd36418",
   "metadata": {},
   "source": [
    "Se pude convertir de un tipo a otro (usualmente, un número en un string)"
   ]
  },
  {
   "cell_type": "code",
   "execution_count": null,
   "id": "200fc7e0",
   "metadata": {},
   "outputs": [],
   "source": [
    "a = 3\n",
    "print(\"El valor es\" + a)"
   ]
  },
  {
   "cell_type": "code",
   "execution_count": null,
   "id": "88deabf5",
   "metadata": {},
   "outputs": [],
   "source": [
    "a = 3\n",
    "str(a)\n",
    "print(\"El valor es \" + str(a))\n"
   ]
  },
  {
   "cell_type": "code",
   "execution_count": null,
   "id": "9f41d961",
   "metadata": {},
   "outputs": [],
   "source": [
    "a='6.7'\n",
    "float(a)+1"
   ]
  },
  {
   "cell_type": "code",
   "execution_count": null,
   "id": "7523e3cc",
   "metadata": {},
   "outputs": [],
   "source": [
    "a = 3\n",
    "print(\"El valor es %d\" % a)"
   ]
  },
  {
   "cell_type": "markdown",
   "id": "cd10cef0",
   "metadata": {},
   "source": [
    "#### Booleanos\n",
    "Verdadero o Falso"
   ]
  },
  {
   "cell_type": "code",
   "execution_count": null,
   "id": "31f9e051",
   "metadata": {},
   "outputs": [],
   "source": [
    "True & True\n",
    "False or True"
   ]
  },
  {
   "cell_type": "markdown",
   "id": "5adc5d8c",
   "metadata": {},
   "source": [
    "#### Type casting \n",
    "Las funciones `float()`, `int()`, `bool()` y `str()` nos permiten cambiar entre estos tipos"
   ]
  },
  {
   "cell_type": "code",
   "execution_count": null,
   "id": "9a998e4a",
   "metadata": {},
   "outputs": [],
   "source": [
    "s = '3.74159'\n",
    "fval = float(s)\n",
    "type(fval)\n",
    "int(fval)\n",
    "bool(fval)"
   ]
  },
  {
   "cell_type": "markdown",
   "id": "f04cdfb7",
   "metadata": {},
   "source": [
    "#### None\n",
    "Tipo especial para representar algo que no existe"
   ]
  },
  {
   "cell_type": "code",
   "execution_count": null,
   "id": "c3312839",
   "metadata": {},
   "outputs": [],
   "source": [
    "a = None\n",
    "a is None\n",
    "b = 5\n",
    "b is not None"
   ]
  },
  {
   "cell_type": "markdown",
   "id": "a6b8a6d1",
   "metadata": {},
   "source": [
    "**Una gracia de Python es que una operación se interpreta de acuerdo al tipo de la variable.**"
   ]
  },
  {
   "cell_type": "code",
   "execution_count": null,
   "id": "bd3b4149",
   "metadata": {},
   "outputs": [],
   "source": [
    "5 + 7"
   ]
  },
  {
   "cell_type": "code",
   "execution_count": null,
   "id": "f0bae411",
   "metadata": {},
   "outputs": [],
   "source": [
    "'5' + '7'"
   ]
  },
  {
   "cell_type": "code",
   "execution_count": null,
   "id": "90e40d16",
   "metadata": {},
   "outputs": [],
   "source": [
    "'5' * 5"
   ]
  },
  {
   "cell_type": "markdown",
   "id": "04a45ccf",
   "metadata": {},
   "source": [
    "### Otros tipos\n",
    "#### Fechas y horas\n",
    "A través de las librerias de Python, podemos acceder a nuevos tipos, que incluyen sus propias funciones y métodos. Por ejemplo, para datos es muy util para manejar fechas. En este caso, importando la libreria `datetime`"
   ]
  },
  {
   "cell_type": "code",
   "execution_count": 45,
   "id": "a3059739",
   "metadata": {},
   "outputs": [
    {
     "data": {
      "text/plain": [
       "datetime.date(2021, 4, 12)"
      ]
     },
     "execution_count": 45,
     "metadata": {},
     "output_type": "execute_result"
    }
   ],
   "source": [
    "from datetime import datetime, date, time\n",
    "dt = datetime(2021, 4, 12, 9, 34, 0)\n",
    "dt.date()"
   ]
  },
  {
   "cell_type": "code",
   "execution_count": 46,
   "id": "2e1486fd",
   "metadata": {},
   "outputs": [
    {
     "data": {
      "text/plain": [
       "datetime.time(9, 34)"
      ]
     },
     "execution_count": 46,
     "metadata": {},
     "output_type": "execute_result"
    }
   ],
   "source": [
    "\n",
    "dt.time()"
   ]
  },
  {
   "cell_type": "code",
   "execution_count": 47,
   "id": "866adfb3",
   "metadata": {},
   "outputs": [
    {
     "data": {
      "text/plain": [
       "datetime.date(2021, 4, 12)"
      ]
     },
     "execution_count": 47,
     "metadata": {},
     "output_type": "execute_result"
    }
   ],
   "source": [
    "dt.date()"
   ]
  },
  {
   "cell_type": "code",
   "execution_count": 48,
   "id": "8912f48f",
   "metadata": {},
   "outputs": [
    {
     "data": {
      "text/plain": [
       "'12/04/2021 09:34'"
      ]
     },
     "execution_count": 48,
     "metadata": {},
     "output_type": "execute_result"
    }
   ],
   "source": [
    "dt.strftime('%d/%m/%Y %H:%M')"
   ]
  },
  {
   "cell_type": "code",
   "execution_count": 49,
   "id": "8755e2e7",
   "metadata": {},
   "outputs": [
    {
     "data": {
      "text/plain": [
       "datetime.datetime(2021, 4, 12, 9, 34)"
      ]
     },
     "execution_count": 49,
     "metadata": {},
     "output_type": "execute_result"
    }
   ],
   "source": [
    "dt"
   ]
  },
  {
   "cell_type": "code",
   "execution_count": 50,
   "id": "c149ce1a",
   "metadata": {},
   "outputs": [
    {
     "data": {
      "text/plain": [
       "datetime.datetime(2009, 10, 31, 0, 0)"
      ]
     },
     "execution_count": 50,
     "metadata": {},
     "output_type": "execute_result"
    }
   ],
   "source": [
    "datetime.strptime('2009-10-31', '%Y-%m-%d')"
   ]
  },
  {
   "cell_type": "code",
   "execution_count": 51,
   "id": "dae388ef",
   "metadata": {},
   "outputs": [
    {
     "data": {
      "text/plain": [
       "datetime.datetime(2021, 4, 12, 9, 0, 10)"
      ]
     },
     "execution_count": 51,
     "metadata": {},
     "output_type": "execute_result"
    }
   ],
   "source": [
    "dt.replace(minute=0, second=10)"
   ]
  },
  {
   "cell_type": "code",
   "execution_count": 52,
   "id": "5d0540b5",
   "metadata": {},
   "outputs": [
    {
     "data": {
      "text/plain": [
       "datetime.timedelta(seconds=120)"
      ]
     },
     "execution_count": 52,
     "metadata": {},
     "output_type": "execute_result"
    }
   ],
   "source": [
    "dt2 = datetime(2021, 4, 12, 9, 36)\n",
    "delta = dt2 - dt\n",
    "delta"
   ]
  },
  {
   "cell_type": "code",
   "execution_count": 53,
   "id": "db46afed",
   "metadata": {},
   "outputs": [
    {
     "data": {
      "text/plain": [
       "120.0"
      ]
     },
     "execution_count": 53,
     "metadata": {},
     "output_type": "execute_result"
    }
   ],
   "source": [
    "delta.total_seconds()"
   ]
  },
  {
   "cell_type": "markdown",
   "id": "1a068d3e",
   "metadata": {},
   "source": [
    "## Control de Flujo"
   ]
  },
  {
   "cell_type": "markdown",
   "id": "e4e67672",
   "metadata": {},
   "source": [
    "#### if, elif, y else\n",
    "Ejecuta un comando si (`if`) se cumple una condición, o si (`elif`) otra condicion se cumple, y si ninguna se cumple (`else`) ejecutar otro comando"
   ]
  },
  {
   "cell_type": "code",
   "execution_count": null,
   "id": "b0f15124",
   "metadata": {},
   "outputs": [],
   "source": [
    "x = 0\n",
    "if x < 0:\n",
    "    print('Negativo')\n",
    "else:\n",
    "    print('No negativo')"
   ]
  },
  {
   "cell_type": "code",
   "execution_count": null,
   "id": "5a7bbff9",
   "metadata": {},
   "outputs": [],
   "source": [
    "x = 6.2\n",
    "if x < 0:\n",
    "    print('Negativo')\n",
    "elif x == 0:\n",
    "    print('igual a cero')\n",
    "elif 0 < x < 5:\n",
    "    print('positivo menor que 5')\n",
    "else:\n",
    "    print('positivo mayor o igual que 5')"
   ]
  },
  {
   "cell_type": "markdown",
   "id": "68cc9b40",
   "metadata": {},
   "source": [
    "#### ciclos for \n",
    "Ejecuta una serie de comando para (`for`) un grupo de elementos de un conjunto."
   ]
  },
  {
   "cell_type": "code",
   "execution_count": null,
   "id": "797e5ded",
   "metadata": {},
   "outputs": [],
   "source": [
    "for i in [1,2,3,4]:\n",
    "    print(i)"
   ]
  },
  {
   "cell_type": "code",
   "execution_count": null,
   "id": "eecd3918",
   "metadata": {},
   "outputs": [],
   "source": [
    "for i in [4,\"Perro\",2,1]:\n",
    "    print(i)"
   ]
  },
  {
   "cell_type": "code",
   "execution_count": null,
   "id": "17a280e1",
   "metadata": {},
   "outputs": [],
   "source": [
    "for i in [4, [2,3] , \"Perro\"]:\n",
    "    print(i+i)"
   ]
  },
  {
   "cell_type": "markdown",
   "id": "bb307cce",
   "metadata": {},
   "source": [
    "Puedo interrumpir un ciclo usando `break`"
   ]
  },
  {
   "cell_type": "code",
   "execution_count": null,
   "id": "6a638c77",
   "metadata": {},
   "outputs": [],
   "source": [
    "for i in [1,2,3,4]:\n",
    "    for j in [1,2,3,4]:\n",
    "        if i==j:\n",
    "            break\n",
    "        print((i, j))"
   ]
  },
  {
   "cell_type": "markdown",
   "id": "5fb2e342",
   "metadata": {},
   "source": [
    "**comando util**: `range`: Algo muy util para ciclos de `for` es el comando `range()`, que entrega una secuencia de números"
   ]
  },
  {
   "cell_type": "code",
   "execution_count": null,
   "id": "ebf2d996",
   "metadata": {},
   "outputs": [],
   "source": [
    "list(range(8))"
   ]
  },
  {
   "cell_type": "code",
   "execution_count": null,
   "id": "ae45f137",
   "metadata": {},
   "outputs": [],
   "source": [
    "range?"
   ]
  },
  {
   "cell_type": "code",
   "execution_count": null,
   "id": "65eda706",
   "metadata": {},
   "outputs": [],
   "source": [
    "print(list(range(4,10,2)))"
   ]
  },
  {
   "cell_type": "code",
   "execution_count": null,
   "id": "0d381fe5",
   "metadata": {},
   "outputs": [],
   "source": [
    "range(10)\n",
    "list(range(10))"
   ]
  },
  {
   "cell_type": "code",
   "execution_count": null,
   "id": "57082c71",
   "metadata": {},
   "outputs": [],
   "source": [
    "for i in range(5):\n",
    "    print (i)"
   ]
  },
  {
   "cell_type": "code",
   "execution_count": null,
   "id": "92095744",
   "metadata": {},
   "outputs": [],
   "source": [
    "list(range(0, 20, 2))"
   ]
  },
  {
   "cell_type": "code",
   "execution_count": null,
   "id": "e07899da",
   "metadata": {},
   "outputs": [],
   "source": [
    "list(range(50, 0, -7))"
   ]
  },
  {
   "cell_type": "markdown",
   "id": "da27640a",
   "metadata": {},
   "source": [
    "#### Expresiones Ternarias  (Ternary expression)\n",
    "Python permite poner expresiones como `if` o `for` dentro de una linea, o una definición de una variable."
   ]
  },
  {
   "cell_type": "code",
   "execution_count": null,
   "id": "f45c1bcc",
   "metadata": {},
   "outputs": [],
   "source": [
    "x = -2\n",
    "if x > 0:\n",
    "    print(\"Hola\")\n",
    "else:\n",
    "    print(\"Chao\")"
   ]
  },
  {
   "cell_type": "code",
   "execution_count": null,
   "id": "129b934e",
   "metadata": {},
   "outputs": [],
   "source": [
    "x = -2\n",
    "print(\"Hola\"  if x > 0  else \"Chao\")"
   ]
  },
  {
   "cell_type": "markdown",
   "id": "b74bc4b0",
   "metadata": {},
   "source": [
    "para hacer listas (estructura que veremos pronto) mas facilmente "
   ]
  },
  {
   "cell_type": "code",
   "execution_count": null,
   "id": "f54d81bf",
   "metadata": {},
   "outputs": [],
   "source": [
    "[i**2 for i in range(5) ]"
   ]
  },
  {
   "cell_type": "markdown",
   "id": "f0954b7b",
   "metadata": {},
   "source": [
    "### Extra: texto en idioma español (u otros idiomas)\n",
    "#### Trabajo con acentos y eñes\n",
    "El texto, por defecto, es un código llamado ASCII. Este código no considera caracteres especiales como ñ, acentos, u otras letras. Estas tipicamente se \"codifican\" como string, siendo el mas común el UTF8. Sin embargo, hay varios encoding distintos (por ejemplo, _UTF16_, o _Latin1_).  A veces, al leer datos, pueden estar en la codificación incorrecta, pero podemos codificarlos (`encode`) o decodificarlos (`decode`) como queramos.\n"
   ]
  },
  {
   "cell_type": "code",
   "execution_count": null,
   "id": "ba4fc532",
   "metadata": {},
   "outputs": [],
   "source": [
    "a = \"baño\"\n",
    "a"
   ]
  },
  {
   "cell_type": "code",
   "execution_count": null,
   "id": "823d2d3e",
   "metadata": {},
   "outputs": [],
   "source": [
    "a8 = a.encode('utf8')\n",
    "a8"
   ]
  },
  {
   "cell_type": "code",
   "execution_count": null,
   "id": "cfc7a0d6",
   "metadata": {},
   "outputs": [],
   "source": [
    "a16 = a.encode('utf16')\n",
    "a16"
   ]
  },
  {
   "cell_type": "code",
   "execution_count": null,
   "id": "6f2d5d2e",
   "metadata": {},
   "outputs": [],
   "source": [
    "a32 = a.encode('latin1')\n",
    "a32"
   ]
  },
  {
   "cell_type": "code",
   "execution_count": null,
   "id": "0a0f186a",
   "metadata": {},
   "outputs": [],
   "source": [
    "print(a8)"
   ]
  },
  {
   "cell_type": "code",
   "execution_count": null,
   "id": "91fcf1c1",
   "metadata": {},
   "outputs": [],
   "source": [
    "print(a8.decode('utf8'))"
   ]
  },
  {
   "cell_type": "code",
   "execution_count": null,
   "id": "800e608e-30ac-4bb7-bb4b-bea4955a2caa",
   "metadata": {},
   "outputs": [],
   "source": []
  }
 ],
 "metadata": {
  "kernelspec": {
   "display_name": "Python 3 (ipykernel)",
   "language": "python",
   "name": "python3"
  },
  "language_info": {
   "codemirror_mode": {
    "name": "ipython",
    "version": 3
   },
   "file_extension": ".py",
   "mimetype": "text/x-python",
   "name": "python",
   "nbconvert_exporter": "python",
   "pygments_lexer": "ipython3",
   "version": "3.12.7"
  }
 },
 "nbformat": 4,
 "nbformat_minor": 5
}
